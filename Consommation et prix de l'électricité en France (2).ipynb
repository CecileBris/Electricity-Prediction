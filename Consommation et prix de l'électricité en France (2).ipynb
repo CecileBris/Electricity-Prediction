{
 "cells": [
  {
   "cell_type": "markdown",
   "metadata": {},
   "source": [
    "# Consommation et prix de l'électricité en France "
   ]
  },
  {
   "cell_type": "markdown",
   "metadata": {},
   "source": [
    "On travaille sur une base de données \"Bilan Électrique au pas demi-heure\" mise à disposition par **Enedis** sur le site data.gouv.fr. \n",
    "**Enedis** est le gestionnaire de réseaux de distribution de l'électricité en France. \n",
    "\n",
    "De plus, on a également souhaité récupérer les données de prix de l'électricité pour pouvoir mettre en évidence la relation entre la consommation et les prix. \n",
    "Pour cela, on a récupéré sur le site **Nord Pool** qui est la plus grande bourse du marché de l'énergie en Europe, les données de prix au pas horaire. "
   ]
  },
  {
   "cell_type": "code",
   "execution_count": 45,
   "metadata": {},
   "outputs": [],
   "source": [
    "import pandas as pd \n",
    "import numpy as np \n",
    "import matplotlib.pyplot as plt \n",
    "import seaborn as sns\n",
    "import statsmodels.api as sm\n",
    "from statsmodels.tsa.seasonal import seasonal_decompose\n",
    "sns.set_theme(style=\"darkgrid\")"
   ]
  },
  {
   "cell_type": "code",
   "execution_count": 46,
   "metadata": {},
   "outputs": [],
   "source": [
    "df_conso = pd.read_csv(\"C:\\\\Users\\\\seren\\\\OneDrive\\\\Bureau\\\\M2S1\\\\ALGO&PYTHON\\\\bilan-electrique-demi-heure.csv\", sep = \";\")"
   ]
  },
  {
   "cell_type": "markdown",
   "metadata": {},
   "source": [
    "## Analyse de la base de données de consommation\n",
    "\n",
    "Avant même de commencer la modélisation, nous allons procéder à une analyse de la base pour vérifier : \n",
    "    <li> La taille de la base \n",
    "    <li> Les valeurs manquantes \n",
    "    <li> Les types de variables \n",
    "    <li> Les valeurs aberrantes \n",
    "\n",
    "afin de s'assurer qu'elle soit exploitable. "
   ]
  },
  {
   "cell_type": "markdown",
   "metadata": {},
   "source": [
    "### Dimension de la base de données "
   ]
  },
  {
   "cell_type": "code",
   "execution_count": null,
   "metadata": {},
   "outputs": [],
   "source": [
    "df_conso.shape"
   ]
  },
  {
   "cell_type": "code",
   "execution_count": null,
   "metadata": {},
   "outputs": [],
   "source": [
    "df_conso.columns"
   ]
  },
  {
   "cell_type": "markdown",
   "metadata": {},
   "source": [
    "La base de données comportant les données de consommation possède donc `87 648` observations pour `24` variables : \n",
    "    <li> `horodate`: La date au pas de demi-horaire\n",
    "    <li> `Mois`\n",
    "    <li> `Injection RTE (W)` : RTE est le gestionnaire de réseaux de transport de l'électricité en France. Cette variable quantifie donc la quantité d'électricité injecté sur le réseaux en Watt\n",
    "    <li> `Refoulement RTE (W)` \n",
    "    <li> `Pertes modélisées (W)` : Cette variable représente la perte d'électricité subit sur le réseaux. Elles sont calculées par un polynôme de type A.P² + B.P + C, avec P la puissance et A,B,C des coefficients réévaluées chaque année. \n",
    "    <li> `Consommations totale, télérelevée et profilée (W)` : télérelevée signifie que la consommateur dispose d'un compteur qui calcule en temps réel la consommation, ceux qui ne disposent pas d'un tel compteur sont donc des profilés : leur consommation est estimée selon leur profil et celle-ci dépend alors de la température et de la conjoncture actuelle. \n",
    "    <li> `Consommation HTA` : représente les consommateurs dits à Haute Tension. \n",
    "    <li> `Consommation PME-PMI, professionelle` : consommations des professionnels, PME-PMI représentant les petites et moyennes entreprises. \n",
    "    <li> `Consommation résidentielle` représente donc celle des particuliers \n",
    "    <li> `Production décentralisée` représente la production d'électricité d'installation de petite capacité.\n",
    "            "
   ]
  },
  {
   "cell_type": "code",
   "execution_count": 72,
   "metadata": {},
   "outputs": [
    {
     "data": {
      "text/html": [
       "<div>\n",
       "<style scoped>\n",
       "    .dataframe tbody tr th:only-of-type {\n",
       "        vertical-align: middle;\n",
       "    }\n",
       "\n",
       "    .dataframe tbody tr th {\n",
       "        vertical-align: top;\n",
       "    }\n",
       "\n",
       "    .dataframe thead th {\n",
       "        text-align: right;\n",
       "    }\n",
       "</style>\n",
       "<table border=\"1\" class=\"dataframe\">\n",
       "  <thead>\n",
       "    <tr style=\"text-align: right;\">\n",
       "      <th></th>\n",
       "      <th>index</th>\n",
       "      <th>Horodate</th>\n",
       "      <th>Mois</th>\n",
       "      <th>Injection RTE (W)</th>\n",
       "      <th>Refoulement RTE (W)</th>\n",
       "      <th>Pertes modélisées (W)</th>\n",
       "      <th>Consommations totale (W)</th>\n",
       "      <th>Consommation totale télérelevée (W)</th>\n",
       "      <th>Consommation totale profilée (W)</th>\n",
       "      <th>Consommation HTA profilée (W)</th>\n",
       "      <th>...</th>\n",
       "      <th>Production décentralisée télérelevée à courbe de charge (W)</th>\n",
       "      <th>Production décentralisée profilée (W)</th>\n",
       "      <th>Production photovoltaïque profilée (W)</th>\n",
       "      <th>Production autre profilée (W)</th>\n",
       "      <th>Température réalisée lissée (°C)</th>\n",
       "      <th>Température normale lissée (°C)</th>\n",
       "      <th>Production éolienne totale (W)</th>\n",
       "      <th>Production photovoltaïque totale (W)</th>\n",
       "      <th>Consommation HTA totale (W)</th>\n",
       "      <th>Soutirage net vers autres GRD (W)</th>\n",
       "    </tr>\n",
       "  </thead>\n",
       "  <tbody>\n",
       "    <tr>\n",
       "      <th>0</th>\n",
       "      <td>53530</td>\n",
       "      <td>2016-10-23 00:00:00+02:00</td>\n",
       "      <td>10</td>\n",
       "      <td>4.063966e+10</td>\n",
       "      <td>8.054930e+08</td>\n",
       "      <td>3.339653e+09</td>\n",
       "      <td>3.890665e+10</td>\n",
       "      <td>8.034015e+09</td>\n",
       "      <td>3.087264e+10</td>\n",
       "      <td>907017939.0</td>\n",
       "      <td>...</td>\n",
       "      <td>2.842486e+09</td>\n",
       "      <td>9882518.0</td>\n",
       "      <td>0.0</td>\n",
       "      <td>72142.0</td>\n",
       "      <td>9.8</td>\n",
       "      <td>12.2</td>\n",
       "      <td>2.101485e+09</td>\n",
       "      <td>25333.0</td>\n",
       "      <td>8.941033e+09</td>\n",
       "      <td>440226697.0</td>\n",
       "    </tr>\n",
       "    <tr>\n",
       "      <th>1</th>\n",
       "      <td>29018</td>\n",
       "      <td>2016-10-23 01:00:00+02:00</td>\n",
       "      <td>10</td>\n",
       "      <td>3.717426e+10</td>\n",
       "      <td>8.599010e+08</td>\n",
       "      <td>2.990955e+09</td>\n",
       "      <td>3.573062e+10</td>\n",
       "      <td>7.934251e+09</td>\n",
       "      <td>2.779637e+10</td>\n",
       "      <td>869330351.0</td>\n",
       "      <td>...</td>\n",
       "      <td>2.800485e+09</td>\n",
       "      <td>9822976.0</td>\n",
       "      <td>0.0</td>\n",
       "      <td>72142.0</td>\n",
       "      <td>9.8</td>\n",
       "      <td>12.2</td>\n",
       "      <td>2.067500e+09</td>\n",
       "      <td>22000.0</td>\n",
       "      <td>8.803581e+09</td>\n",
       "      <td>403091526.0</td>\n",
       "    </tr>\n",
       "    <tr>\n",
       "      <th>2</th>\n",
       "      <td>53531</td>\n",
       "      <td>2016-10-23 02:00:00+02:00</td>\n",
       "      <td>10</td>\n",
       "      <td>3.593819e+10</td>\n",
       "      <td>8.620720e+08</td>\n",
       "      <td>2.869121e+09</td>\n",
       "      <td>3.465796e+10</td>\n",
       "      <td>7.864872e+09</td>\n",
       "      <td>2.679309e+10</td>\n",
       "      <td>822502905.0</td>\n",
       "      <td>...</td>\n",
       "      <td>2.829343e+09</td>\n",
       "      <td>9691012.0</td>\n",
       "      <td>0.0</td>\n",
       "      <td>72142.0</td>\n",
       "      <td>9.7</td>\n",
       "      <td>12.1</td>\n",
       "      <td>2.098960e+09</td>\n",
       "      <td>22000.0</td>\n",
       "      <td>8.687375e+09</td>\n",
       "      <td>388068636.0</td>\n",
       "    </tr>\n",
       "    <tr>\n",
       "      <th>3</th>\n",
       "      <td>38732</td>\n",
       "      <td>2016-10-23 03:00:00+02:00</td>\n",
       "      <td>10</td>\n",
       "      <td>3.292863e+10</td>\n",
       "      <td>9.200830e+08</td>\n",
       "      <td>2.578077e+09</td>\n",
       "      <td>3.195787e+10</td>\n",
       "      <td>7.853917e+09</td>\n",
       "      <td>2.410395e+10</td>\n",
       "      <td>818450322.0</td>\n",
       "      <td>...</td>\n",
       "      <td>2.865993e+09</td>\n",
       "      <td>9650855.0</td>\n",
       "      <td>0.0</td>\n",
       "      <td>72142.0</td>\n",
       "      <td>9.7</td>\n",
       "      <td>12.1</td>\n",
       "      <td>2.129551e+09</td>\n",
       "      <td>25000.0</td>\n",
       "      <td>8.672367e+09</td>\n",
       "      <td>348244654.0</td>\n",
       "    </tr>\n",
       "    <tr>\n",
       "      <th>4</th>\n",
       "      <td>77655</td>\n",
       "      <td>2016-10-23 04:00:00+02:00</td>\n",
       "      <td>10</td>\n",
       "      <td>3.116248e+10</td>\n",
       "      <td>1.062332e+09</td>\n",
       "      <td>2.410971e+09</td>\n",
       "      <td>3.041073e+10</td>\n",
       "      <td>7.828469e+09</td>\n",
       "      <td>2.258226e+10</td>\n",
       "      <td>828305185.0</td>\n",
       "      <td>...</td>\n",
       "      <td>3.040099e+09</td>\n",
       "      <td>9883179.0</td>\n",
       "      <td>0.0</td>\n",
       "      <td>72142.0</td>\n",
       "      <td>9.6</td>\n",
       "      <td>12.0</td>\n",
       "      <td>2.293851e+09</td>\n",
       "      <td>22000.0</td>\n",
       "      <td>8.656774e+09</td>\n",
       "      <td>328433517.0</td>\n",
       "    </tr>\n",
       "    <tr>\n",
       "      <th>5</th>\n",
       "      <td>77656</td>\n",
       "      <td>2016-10-23 05:00:00+02:00</td>\n",
       "      <td>10</td>\n",
       "      <td>3.092702e+10</td>\n",
       "      <td>1.122114e+09</td>\n",
       "      <td>2.388899e+09</td>\n",
       "      <td>3.025010e+10</td>\n",
       "      <td>7.885256e+09</td>\n",
       "      <td>2.236485e+10</td>\n",
       "      <td>830500225.0</td>\n",
       "      <td>...</td>\n",
       "      <td>3.152123e+09</td>\n",
       "      <td>10450137.0</td>\n",
       "      <td>0.0</td>\n",
       "      <td>72142.0</td>\n",
       "      <td>9.6</td>\n",
       "      <td>12.0</td>\n",
       "      <td>2.406958e+09</td>\n",
       "      <td>23667.0</td>\n",
       "      <td>8.715757e+09</td>\n",
       "      <td>328482677.0</td>\n",
       "    </tr>\n",
       "    <tr>\n",
       "      <th>6</th>\n",
       "      <td>38734</td>\n",
       "      <td>2016-10-23 06:00:00+02:00</td>\n",
       "      <td>10</td>\n",
       "      <td>3.155606e+10</td>\n",
       "      <td>1.118661e+09</td>\n",
       "      <td>2.447973e+09</td>\n",
       "      <td>3.091519e+10</td>\n",
       "      <td>7.968493e+09</td>\n",
       "      <td>2.294670e+10</td>\n",
       "      <td>819277948.0</td>\n",
       "      <td>...</td>\n",
       "      <td>3.247014e+09</td>\n",
       "      <td>10419921.0</td>\n",
       "      <td>0.0</td>\n",
       "      <td>72142.0</td>\n",
       "      <td>9.5</td>\n",
       "      <td>11.9</td>\n",
       "      <td>2.504563e+09</td>\n",
       "      <td>21667.0</td>\n",
       "      <td>8.787771e+09</td>\n",
       "      <td>331673343.0</td>\n",
       "    </tr>\n",
       "    <tr>\n",
       "      <th>7</th>\n",
       "      <td>69181</td>\n",
       "      <td>2016-10-23 07:00:00+02:00</td>\n",
       "      <td>10</td>\n",
       "      <td>3.257865e+10</td>\n",
       "      <td>1.258219e+09</td>\n",
       "      <td>2.544746e+09</td>\n",
       "      <td>3.196585e+10</td>\n",
       "      <td>8.114356e+09</td>\n",
       "      <td>2.385149e+10</td>\n",
       "      <td>829842566.0</td>\n",
       "      <td>...</td>\n",
       "      <td>3.516871e+09</td>\n",
       "      <td>10308233.0</td>\n",
       "      <td>0.0</td>\n",
       "      <td>72142.0</td>\n",
       "      <td>9.4</td>\n",
       "      <td>11.8</td>\n",
       "      <td>2.771591e+09</td>\n",
       "      <td>24333.0</td>\n",
       "      <td>8.944199e+09</td>\n",
       "      <td>337009824.0</td>\n",
       "    </tr>\n",
       "    <tr>\n",
       "      <th>8</th>\n",
       "      <td>38735</td>\n",
       "      <td>2016-10-23 08:00:00+02:00</td>\n",
       "      <td>10</td>\n",
       "      <td>3.358882e+10</td>\n",
       "      <td>1.290066e+09</td>\n",
       "      <td>2.641243e+09</td>\n",
       "      <td>3.303514e+10</td>\n",
       "      <td>8.131530e+09</td>\n",
       "      <td>2.490361e+10</td>\n",
       "      <td>812940861.0</td>\n",
       "      <td>...</td>\n",
       "      <td>3.643235e+09</td>\n",
       "      <td>78369079.0</td>\n",
       "      <td>68013534.0</td>\n",
       "      <td>72142.0</td>\n",
       "      <td>9.4</td>\n",
       "      <td>11.7</td>\n",
       "      <td>2.901875e+09</td>\n",
       "      <td>69186201.0</td>\n",
       "      <td>8.944471e+09</td>\n",
       "      <td>343979227.0</td>\n",
       "    </tr>\n",
       "    <tr>\n",
       "      <th>9</th>\n",
       "      <td>69182</td>\n",
       "      <td>2016-10-23 09:00:00+02:00</td>\n",
       "      <td>10</td>\n",
       "      <td>3.543248e+10</td>\n",
       "      <td>1.237625e+09</td>\n",
       "      <td>2.819661e+09</td>\n",
       "      <td>3.511785e+10</td>\n",
       "      <td>8.130292e+09</td>\n",
       "      <td>2.698756e+10</td>\n",
       "      <td>793628970.0</td>\n",
       "      <td>...</td>\n",
       "      <td>3.774325e+09</td>\n",
       "      <td>333768786.0</td>\n",
       "      <td>323219520.0</td>\n",
       "      <td>72142.0</td>\n",
       "      <td>9.5</td>\n",
       "      <td>11.7</td>\n",
       "      <td>2.957416e+09</td>\n",
       "      <td>399203853.0</td>\n",
       "      <td>8.923921e+09</td>\n",
       "      <td>365433496.0</td>\n",
       "    </tr>\n",
       "  </tbody>\n",
       "</table>\n",
       "<p>10 rows × 24 columns</p>\n",
       "</div>"
      ],
      "text/plain": [
       "   index                   Horodate  Mois  Injection RTE (W)  \\\n",
       "0  53530  2016-10-23 00:00:00+02:00    10       4.063966e+10   \n",
       "1  29018  2016-10-23 01:00:00+02:00    10       3.717426e+10   \n",
       "2  53531  2016-10-23 02:00:00+02:00    10       3.593819e+10   \n",
       "3  38732  2016-10-23 03:00:00+02:00    10       3.292863e+10   \n",
       "4  77655  2016-10-23 04:00:00+02:00    10       3.116248e+10   \n",
       "5  77656  2016-10-23 05:00:00+02:00    10       3.092702e+10   \n",
       "6  38734  2016-10-23 06:00:00+02:00    10       3.155606e+10   \n",
       "7  69181  2016-10-23 07:00:00+02:00    10       3.257865e+10   \n",
       "8  38735  2016-10-23 08:00:00+02:00    10       3.358882e+10   \n",
       "9  69182  2016-10-23 09:00:00+02:00    10       3.543248e+10   \n",
       "\n",
       "   Refoulement RTE (W)  Pertes modélisées (W)  Consommations totale (W)  \\\n",
       "0         8.054930e+08           3.339653e+09              3.890665e+10   \n",
       "1         8.599010e+08           2.990955e+09              3.573062e+10   \n",
       "2         8.620720e+08           2.869121e+09              3.465796e+10   \n",
       "3         9.200830e+08           2.578077e+09              3.195787e+10   \n",
       "4         1.062332e+09           2.410971e+09              3.041073e+10   \n",
       "5         1.122114e+09           2.388899e+09              3.025010e+10   \n",
       "6         1.118661e+09           2.447973e+09              3.091519e+10   \n",
       "7         1.258219e+09           2.544746e+09              3.196585e+10   \n",
       "8         1.290066e+09           2.641243e+09              3.303514e+10   \n",
       "9         1.237625e+09           2.819661e+09              3.511785e+10   \n",
       "\n",
       "   Consommation totale télérelevée (W)  Consommation totale profilée (W)  \\\n",
       "0                         8.034015e+09                      3.087264e+10   \n",
       "1                         7.934251e+09                      2.779637e+10   \n",
       "2                         7.864872e+09                      2.679309e+10   \n",
       "3                         7.853917e+09                      2.410395e+10   \n",
       "4                         7.828469e+09                      2.258226e+10   \n",
       "5                         7.885256e+09                      2.236485e+10   \n",
       "6                         7.968493e+09                      2.294670e+10   \n",
       "7                         8.114356e+09                      2.385149e+10   \n",
       "8                         8.131530e+09                      2.490361e+10   \n",
       "9                         8.130292e+09                      2.698756e+10   \n",
       "\n",
       "   Consommation HTA profilée (W)  ...  \\\n",
       "0                    907017939.0  ...   \n",
       "1                    869330351.0  ...   \n",
       "2                    822502905.0  ...   \n",
       "3                    818450322.0  ...   \n",
       "4                    828305185.0  ...   \n",
       "5                    830500225.0  ...   \n",
       "6                    819277948.0  ...   \n",
       "7                    829842566.0  ...   \n",
       "8                    812940861.0  ...   \n",
       "9                    793628970.0  ...   \n",
       "\n",
       "   Production décentralisée télérelevée à courbe de charge (W)  \\\n",
       "0                                       2.842486e+09             \n",
       "1                                       2.800485e+09             \n",
       "2                                       2.829343e+09             \n",
       "3                                       2.865993e+09             \n",
       "4                                       3.040099e+09             \n",
       "5                                       3.152123e+09             \n",
       "6                                       3.247014e+09             \n",
       "7                                       3.516871e+09             \n",
       "8                                       3.643235e+09             \n",
       "9                                       3.774325e+09             \n",
       "\n",
       "   Production décentralisée profilée (W)  \\\n",
       "0                              9882518.0   \n",
       "1                              9822976.0   \n",
       "2                              9691012.0   \n",
       "3                              9650855.0   \n",
       "4                              9883179.0   \n",
       "5                             10450137.0   \n",
       "6                             10419921.0   \n",
       "7                             10308233.0   \n",
       "8                             78369079.0   \n",
       "9                            333768786.0   \n",
       "\n",
       "   Production photovoltaïque profilée (W)  Production autre profilée (W)  \\\n",
       "0                                     0.0                        72142.0   \n",
       "1                                     0.0                        72142.0   \n",
       "2                                     0.0                        72142.0   \n",
       "3                                     0.0                        72142.0   \n",
       "4                                     0.0                        72142.0   \n",
       "5                                     0.0                        72142.0   \n",
       "6                                     0.0                        72142.0   \n",
       "7                                     0.0                        72142.0   \n",
       "8                              68013534.0                        72142.0   \n",
       "9                             323219520.0                        72142.0   \n",
       "\n",
       "   Température réalisée lissée (°C)  Température normale lissée (°C)  \\\n",
       "0                               9.8                             12.2   \n",
       "1                               9.8                             12.2   \n",
       "2                               9.7                             12.1   \n",
       "3                               9.7                             12.1   \n",
       "4                               9.6                             12.0   \n",
       "5                               9.6                             12.0   \n",
       "6                               9.5                             11.9   \n",
       "7                               9.4                             11.8   \n",
       "8                               9.4                             11.7   \n",
       "9                               9.5                             11.7   \n",
       "\n",
       "   Production éolienne totale (W)  Production photovoltaïque totale (W)  \\\n",
       "0                    2.101485e+09                               25333.0   \n",
       "1                    2.067500e+09                               22000.0   \n",
       "2                    2.098960e+09                               22000.0   \n",
       "3                    2.129551e+09                               25000.0   \n",
       "4                    2.293851e+09                               22000.0   \n",
       "5                    2.406958e+09                               23667.0   \n",
       "6                    2.504563e+09                               21667.0   \n",
       "7                    2.771591e+09                               24333.0   \n",
       "8                    2.901875e+09                            69186201.0   \n",
       "9                    2.957416e+09                           399203853.0   \n",
       "\n",
       "   Consommation HTA totale (W)  Soutirage net vers autres GRD (W)  \n",
       "0                 8.941033e+09                        440226697.0  \n",
       "1                 8.803581e+09                        403091526.0  \n",
       "2                 8.687375e+09                        388068636.0  \n",
       "3                 8.672367e+09                        348244654.0  \n",
       "4                 8.656774e+09                        328433517.0  \n",
       "5                 8.715757e+09                        328482677.0  \n",
       "6                 8.787771e+09                        331673343.0  \n",
       "7                 8.944199e+09                        337009824.0  \n",
       "8                 8.944471e+09                        343979227.0  \n",
       "9                 8.923921e+09                        365433496.0  \n",
       "\n",
       "[10 rows x 24 columns]"
      ]
     },
     "execution_count": 72,
     "metadata": {},
     "output_type": "execute_result"
    }
   ],
   "source": [
    "df_conso.head(10)"
   ]
  },
  {
   "cell_type": "markdown",
   "metadata": {},
   "source": [
    "On se rend compte ici que les données de date ne sont pas ordonnées."
   ]
  },
  {
   "cell_type": "code",
   "execution_count": 47,
   "metadata": {},
   "outputs": [],
   "source": [
    "df_conso = df_conso.sort_values(by=['Horodate'])"
   ]
  },
  {
   "cell_type": "markdown",
   "metadata": {},
   "source": [
    "### Valeurs manquantes et types de variables"
   ]
  },
  {
   "cell_type": "code",
   "execution_count": null,
   "metadata": {},
   "outputs": [],
   "source": [
    "Nom_Var = df_conso.columns\n",
    "def var(nomvar,data):\n",
    "    print(\"Nom de la var : \" + nomvar)\n",
    "    print(f\"Nombre de modalités : {data[nomvar].nunique()}\")\n",
    "    print(f\"Vecteurs des modalités : {data[nomvar].unique()}\")\n",
    "    print(f\"Counts en chaque modalités : {data[nomvar].value_counts()}\")\n",
    "    print(data[nomvar].describe())\n",
    "    print(f\"La colonne a {data[nomvar].isna().sum()}  valeur(s) manquante(s)\")\n",
    "    print(f\"La variable admet donc {(data[nomvar].isna().sum()/len(data))*100} % de valeur(s) manquante(s)\")\n",
    "    \n",
    "def num_missing(x):\n",
    "    return sum(x.isnull())"
   ]
  },
  {
   "cell_type": "code",
   "execution_count": null,
   "metadata": {},
   "outputs": [],
   "source": [
    "for i in Nom_Var : \n",
    "    print(var(i,df_conso))"
   ]
  },
  {
   "cell_type": "code",
   "execution_count": null,
   "metadata": {},
   "outputs": [],
   "source": [
    "print(\"Valeurs manquantes par colonne:\")\n",
    "print(df_conso.apply(num_missing, axis=0)) "
   ]
  },
  {
   "cell_type": "markdown",
   "metadata": {},
   "source": [
    "On voit donc que seule la variable `Pseudo rayonnement` admet des valeurs manquantes pour un total de 8%. \n",
    "En raison du nombre de valeurs manquantes et du fait que seule cette variable en admette, on décide de la supprimer.\n",
    "On aurait pu essayer de modéliser cette variable pour voir si elle admettait une saisonnalité pour pouvoir estimer les valeurs manquantes. Cependant, le calcul de cette variable est trop complexe pour ce genre de modélisation. \n",
    "\n",
    "On observe également que toutes nos variables sont numériques. C'est également le cas de la variable de date, on décide donc de la mettre au format date "
   ]
  },
  {
   "cell_type": "code",
   "execution_count": 48,
   "metadata": {},
   "outputs": [],
   "source": [
    "df_conso.drop(columns = [\"Pseudo rayonnement\"], inplace = True)\n",
    "df_conso[\"Horodate\"] = pd.to_datetime(df_conso[\"Horodate\"])\n"
   ]
  },
  {
   "cell_type": "markdown",
   "metadata": {},
   "source": [
    "### Valeurs aberrantes \n",
    "\n",
    "La source de la base de données étant fiable, cela devrait être également le cas des mesures. \n",
    "Nous préférons tout de même vérifier s'il n'existe pas de valeurs aberrantes qui pourraient donc fausser la modélisation. \n",
    "Nous allons vérifier cela pour nos variables d'intérêts : La consommation et la température. "
   ]
  },
  {
   "cell_type": "code",
   "execution_count": null,
   "metadata": {},
   "outputs": [],
   "source": [
    "fig = plt.figure(figsize=(10,5))\n",
    "sns.boxplot(df_conso[\"Consommations totale (W)\"])\n",
    "plt.title('Box Plot de la Consommation Totale', fontsize=15);"
   ]
  },
  {
   "cell_type": "code",
   "execution_count": null,
   "metadata": {},
   "outputs": [],
   "source": [
    "fig = plt.figure(figsize=(10,5))\n",
    "sns.boxplot(df_conso[\"Température réalisée lissée (°C)\"])\n",
    "plt.title('Box Plot de la Température réalisée', fontsize=15);"
   ]
  },
  {
   "cell_type": "markdown",
   "metadata": {},
   "source": [
    "## Analyse de la base de données des prix \n",
    "\n",
    "La base de données qu'on avait à notre disposition jusque là était complète, mais il manquait une variable importante pour notre analyse : **le prix de l'électricité**. \n",
    "On a donc récupéré une autre base avec les prix au pas horaire. \n",
    "Sur le site de la bourse du marché de l'énergie, on a pu récupérer un fichier excel par année. \n",
    "On a donc dû les importer et les concaténer. "
   ]
  },
  {
   "cell_type": "code",
   "execution_count": 49,
   "metadata": {},
   "outputs": [],
   "source": [
    "# Importation et concaténation des prix \n",
    "\n",
    "dossiers = { 'data' : [2016,2022]}\n",
    "\n",
    "dfs = []\n",
    "k = 'data'\n",
    "for i in range(dossiers[k][0],dossiers[k][1]):\n",
    "    try:\n",
    "        dfs.append(pd.read_excel(r'C:\\\\Users\\\\seren\\\\OneDrive\\\\Bureau\\\\M2S1\\\\ALGO&PYTHON\\\\{}\\\\{}.xlsx'.format(k,i)))\n",
    "    except:\n",
    "        pass\n",
    "ganisland = pd.concat(dfs)\n",
    "df_price = ganisland.reset_index()\n",
    "\n",
    "df_price.drop(columns = [\"index\"], inplace = True)"
   ]
  },
  {
   "cell_type": "code",
   "execution_count": null,
   "metadata": {},
   "outputs": [],
   "source": [
    "df_price.shape"
   ]
  },
  {
   "cell_type": "code",
   "execution_count": null,
   "metadata": {},
   "outputs": [],
   "source": [
    "df_price.head(10)"
   ]
  },
  {
   "cell_type": "markdown",
   "metadata": {},
   "source": [
    "Le dataframe contient donc `51 366` observations et `3` variables. \n",
    "Cependant, on ne peut pas concaténer directement ce dataframe avec celui des consommations car d'une part celui-ci est au pas horaire et non demi-horaire, et d'autre part la période de temps n'est pas la même. \n",
    "On décide donc de travailler au pas horaire. "
   ]
  },
  {
   "cell_type": "code",
   "execution_count": 50,
   "metadata": {},
   "outputs": [],
   "source": [
    "# On garde seulement les heures entières de la base de consommation\n",
    "minutes = df_conso[df_conso['Horodate'].astype(str).str.contains(':30:')].index\n",
    "df_conso.drop(minutes,0, inplace=True)\n",
    "\n",
    "# On récupère la période qui nous intéresse \n",
    "df_price = df_price[(df_price[\"Date\"] >= \"2016-10-23\") & (df_price[\"Date\"] <= \"2021-10-22\" )]"
   ]
  },
  {
   "cell_type": "code",
   "execution_count": null,
   "metadata": {},
   "outputs": [],
   "source": [
    "print(\"Valeurs manquantes par colonne:\")\n",
    "print(df_price.apply(num_missing, axis=0)) "
   ]
  },
  {
   "cell_type": "code",
   "execution_count": null,
   "metadata": {},
   "outputs": [],
   "source": [
    "#Pour trouver les lignes qu'il y a en trop.\n",
    "#On regarde quelle heure apparait plus que les autre\n",
    "#On trouve qu'il y a 1831 minuit alors que pour les autres valeurs il n'y en a que 1826\n",
    "df_price[df_price['Hours'].astype(str).str.contains('00:00:00')].count\n",
    "df_conso[df_conso['Horodate'].astype(str).str.contains('T00:00:00')].count"
   ]
  },
  {
   "cell_type": "markdown",
   "metadata": {},
   "source": [
    "On se rend compte que même au même pas de temps, et avec la même période, il y a 5 observations en trop dans le dataframe des prix. \n",
    "En faisant des analyses sur les valeurs manquantes, on se rend compte que la variable Prix admet exactement 5 valeurs manquantes. En cherchant plus loin on voit que cela correspondait à des occurences de l'heure 00h. On décide donc de supprimer ces lignes pour ensuite pouvoir concaténer les deux dataframes. "
   ]
  },
  {
   "cell_type": "code",
   "execution_count": 51,
   "metadata": {},
   "outputs": [],
   "source": [
    "#Pour supprimer les lignes en trop avec un nan dans la colonne prix\n",
    "index_with_nan = df_price.index[df_price[\"Prix\"].isnull()]\n",
    "df_price.drop(index_with_nan,0, inplace=True)\n",
    "\n",
    "#Suppression colonnes dans df5 pour qu'il ne reste que les prix\n",
    "df_price = df_price.drop(['Hours', 'Date'], 1) \n",
    "\n",
    "\n",
    "#Remettre l'index à 0\n",
    "df_conso = df_conso.reset_index(drop=False, inplace=False)\n",
    "df_price = df_price.reset_index(drop=False, inplace=False)\n",
    "\n",
    "\n",
    "#On concatène les deux fichiers\n",
    "df_final = df_conso.merge(df_price, how='inner', left_index=True, right_index=True)"
   ]
  },
  {
   "cell_type": "markdown",
   "metadata": {},
   "source": [
    "Pour simplifier les analyses suivantes, nous créons trois nouvelles variables : `Year`, `Hours` et `weekday`"
   ]
  },
  {
   "cell_type": "code",
   "execution_count": 52,
   "metadata": {},
   "outputs": [],
   "source": [
    "# On créé une nouvelle variable Year \n",
    "df_final.insert(1, 'Year',df_final[\"Horodate\"].astype(str).str[:4] )\n",
    "\n",
    "# On créé une nouvelle variable Hours \n",
    "df_final.insert(2, 'Hours',df_final[\"Horodate\"].astype(str).str[11:13] )\n",
    "\n",
    "df_final[\"weekday\"] = df_final[\"Horodate\"].apply(lambda x: x.weekday())"
   ]
  },
  {
   "cell_type": "code",
   "execution_count": 53,
   "metadata": {},
   "outputs": [],
   "source": [
    "df_final.head()\n",
    "\n",
    "df_final.drop(columns = [\"index_x\",\"index_y\"], inplace = True)"
   ]
  },
  {
   "cell_type": "code",
   "execution_count": 54,
   "metadata": {},
   "outputs": [
    {
     "name": "stderr",
     "output_type": "stream",
     "text": [
      "C:\\Users\\seren\\anaconda3\\lib\\site-packages\\seaborn\\_decorators.py:36: FutureWarning: Pass the following variable as a keyword arg: x. From version 0.12, the only valid positional argument will be `data`, and passing other arguments without an explicit keyword will result in an error or misinterpretation.\n",
      "  warnings.warn(\n"
     ]
    },
    {
     "data": {
      "image/png": "[encoded data removed]",
      "text/plain": [
       "<Figure size 720x360 with 1 Axes>"
      ]
     },
     "metadata": {},
     "output_type": "display_data"
    }
   ],
   "source": [
    "fig = plt.figure(figsize=(10,5))\n",
    "sns.boxplot(df_final[\"Prix\"])\n",
    "plt.title('Box Plot des prix', fontsize=15);"
   ]
  },
  {
   "cell_type": "markdown",
   "metadata": {},
   "source": [
    "# Analyse de la série chronologiques : quelques graphiques \n",
    "\n",
    "Nous allons dans cette partie tenter de visualiser graphiquement la série, afin de dégager les différentes composantes :\n",
    "    <li> Une tendance \n",
    "    <li> Une saisonnalité \n",
    "    <li> Un bruit \n",
    "        \n",
    "Par intuition, on suppose que la série admet au moins trois types de saisonnalité :\n",
    "     <li> Une saisonnalité **mensuelle** : en effet, la consommation d'électricité fluctue en fonction du mois de l'année. On suppose qu'elle est plus elevée en hiver par rapport à l'été. \n",
    "     <li> Une saisonnalité **hebdomadaire** : la consommation peut dépendre du jour de la semaine, en effet on imagine qu'une ménage consomme plus le week-end par exemple. \n",
    "     <li> Une saisonnalité **journalière** : en fonction du moment de la journée, la consommation électrique n'est pas la même.\n",
    "        \n",
    "En revanche, il convient de distinguer la consommation des professionnels et celle des particuliers. En effet, on s'attend à ce que la première soit plus importante en journée (durant les heures de travail), tandis que celle des particuliers doit atteindre un pic le matin ainsi qu'en soirée, et être plutôt faible la journée. \n",
    "        "
   ]
  },
  {
   "cell_type": "markdown",
   "metadata": {},
   "source": [
    "**Saisonnalité mensuelle**"
   ]
  },
  {
   "cell_type": "code",
   "execution_count": null,
   "metadata": {},
   "outputs": [],
   "source": [
    "# Evolution de la consommation en fonction du temps\n",
    "plt.plot(df_final[\"Horodate\"], df_final[\"Consommations totale (W)\"]) ; "
   ]
  },
  {
   "cell_type": "code",
   "execution_count": null,
   "metadata": {},
   "outputs": [],
   "source": [
    "fig, [ax1, ax2]= plt.subplots(1, 2, figsize=(8, 6))\n",
    "\n",
    "ax1.set_title(\"Consommation des professionnels\")\n",
    "ax1.plot(df_final[\"Horodate\"], df_final[\"Consommation professionnelle profilée (W)\"])\n",
    "plt.xticks(rotation = 60)\n",
    "\n",
    "ax2.set_title(\"Consommation des particuliers\")\n",
    "ax2.plot(df_final[\"Horodate\"], df_final[\"Consommation résidentielle profilée (W)\"]) \n",
    "plt.xticks(rotation = 60);"
   ]
  },
  {
   "cell_type": "markdown",
   "metadata": {},
   "source": [
    "Conformément à notre intuition, on voit donc une saisonnalité mensuelle se dégager du graphique.\n",
    "On suppose que les pics de consommation sont atteints en hiver, tandis que les moments où la consommation est minimale correspondent à des mois chauds. \n",
    "\n",
    "Pour confirmer cette intuition, nous allons zoomer ce même graphique sur une année seulement."
   ]
  },
  {
   "cell_type": "code",
   "execution_count": 55,
   "metadata": {},
   "outputs": [
    {
     "data": {
      "image/png": "[encoded data removed]",
      "text/plain": [
       "<Figure size 432x288 with 1 Axes>"
      ]
     },
     "metadata": {},
     "output_type": "display_data"
    }
   ],
   "source": [
    "df_2019 = df_final[df_final[\"Year\"] == \"2019\"]\n",
    "sns.lineplot(x = \"Horodate\", y = \"Consommations totale (W)\",\n",
    "             data = df_2019) ;"
   ]
  },
  {
   "cell_type": "code",
   "execution_count": null,
   "metadata": {},
   "outputs": [],
   "source": [
    "fig, [ax1, ax2]= plt.subplots(1, 2, figsize=(8, 6))\n",
    "\n",
    "ax1.set_title(\"Consommation des professionnels\")\n",
    "ax1.plot(df_2019[\"Horodate\"], df_2019[\"Consommation professionnelle profilée (W)\"])\n",
    "plt.xticks(rotation = 60)\n",
    "\n",
    "ax2.set_title(\"Consommation des particuliers\")\n",
    "ax2.plot(df_2019[\"Horodate\"], df_2019[\"Consommation résidentielle profilée (W)\"]) \n",
    "plt.xticks(rotation = 60);"
   ]
  },
  {
   "cell_type": "markdown",
   "metadata": {},
   "source": [
    "On a choisit de répresenter le graphique sur l'année `2019`.\n",
    "Conformément à notre intuition, on voit que la consommation est plus elevée en hiver : elle est maximale au moins de janvier, puis baisse jusqu'a augmenter vers le mois de septembre.\n",
    "On remarque également des oscillations au sein même des mois. On décide alors d'affiner encore plus notre graphique pour mettre en évidence les variations de consommation au sein d'une même journée et ainsi dégager la seconde saisonnalité journalière. \n",
    "\n",
    "A noter également qu'on observe une différence entre la consommation des professionnels et celle des particuliers : la première semble connaitre plus d'oscillations au sein de la journée contrairement à la seconde. "
   ]
  },
  {
   "cell_type": "markdown",
   "metadata": {},
   "source": [
    "**Saisonnalité hebdomadaire**"
   ]
  },
  {
   "cell_type": "code",
   "execution_count": 59,
   "metadata": {},
   "outputs": [
    {
     "data": {
      "image/png": "[encoded data removed]",
      "text/plain": [
       "<Figure size 432x288 with 1 Axes>"
      ]
     },
     "metadata": {},
     "output_type": "display_data"
    }
   ],
   "source": [
    "sns.lineplot(x = \"weekday\", \n",
    "            y = \"Consommations totale (W)\",\n",
    "            data = df_final) ; "
   ]
  },
  {
   "cell_type": "markdown",
   "metadata": {},
   "source": [
    "0 correspondant au lundi, on voit que notre intuition était éronnée : la consommation électrique est plus élevée la semaine, et décroit le week-end. "
   ]
  },
  {
   "cell_type": "markdown",
   "metadata": {},
   "source": [
    "**Saisonnalité journalière**"
   ]
  },
  {
   "cell_type": "code",
   "execution_count": null,
   "metadata": {},
   "outputs": [],
   "source": [
    "df_day = df_final[df_final[\"Horodate\"].astype(str).str.startswith(\"2019-03-25\")]\n",
    "sns.lineplot(x = \"Horodate\", y = \"Consommations totale (W)\",\n",
    "             data = df_day\n",
    "             )\n",
    "plt.xticks(rotation = 60);"
   ]
  },
  {
   "cell_type": "markdown",
   "metadata": {},
   "source": [
    "On voit qu'un pic de consommation a lieu en milieu de journée, puis un second en début de soirée. \n",
    "Cela est conforme également à ce qu'on peut attendre : la nuit la consommation est presque nulle, puis elle augmente le matin et en fin de journée. \n",
    "De plus, la base regroupe les consommations de professionnelles et également de particuliers : les premiers consomment donc la journée pour leur activité, et les dernier consomment plutôt en fin de journée/début de soirée. \n",
    "On peut aisément vérifier cela séparant les deux consommations. \n",
    "On voit donc l'intéret ici de distinguer les deux consommations, puisque les comportements sont à l'opposé : le pic de consommation des professionels est atteint en journée, tandis que celle des particuliers en fin de journée/début de soirée. "
   ]
  },
  {
   "cell_type": "code",
   "execution_count": null,
   "metadata": {},
   "outputs": [],
   "source": [
    "fig, [ax1, ax2]= plt.subplots(1, 2, figsize=(8, 6))\n",
    "\n",
    "ax1.set_title(\"Consommation des professionnels\")\n",
    "ax1.plot(df_day[\"Horodate\"], df_day[\"Consommation professionnelle profilée (W)\"])\n",
    "plt.xticks(rotation = 60)\n",
    "\n",
    "ax2.set_title(\"Consommation des particuliers\")\n",
    "ax2.plot(df_day[\"Horodate\"], df_day[\"Consommation résidentielle profilée (W)\"]) \n",
    "plt.xticks(rotation = 60);\n",
    " "
   ]
  },
  {
   "cell_type": "code",
   "execution_count": null,
   "metadata": {},
   "outputs": [],
   "source": [
    "df_2019.plot(kind='scatter',\n",
    "       x=\"Température réalisée lissée (°C)\",\n",
    "       y=\"Consommations totale (W)\"); "
   ]
  },
  {
   "cell_type": "code",
   "execution_count": null,
   "metadata": {},
   "outputs": [],
   "source": [
    "df_final.head()"
   ]
  },
  {
   "cell_type": "markdown",
   "metadata": {},
   "source": [
    "Notre intuition avant la construction du graphique était qu'il existe sûrement une corrélation négative entre la consommation d'énergie et la température avant un certain seuil : plus la température est basse et plus la consommation d'équipements électriques augmente, puis la consommation électrique diminue quand les températures remontent, jusqu'à une certaine température qui entraine une consommation accrue d'autres équipements (`Exemple` : les climatisations). \n",
    "Cette intuition est vérifiée par le graphique, et la température seuil semble être au alentour de 25 degrés. "
   ]
  },
  {
   "cell_type": "markdown",
   "metadata": {},
   "source": [
    "**Matrice de corrélation**"
   ]
  },
  {
   "cell_type": "code",
   "execution_count": null,
   "metadata": {},
   "outputs": [],
   "source": [
    "sns.heatmap(df_final.corr().iloc[:8,:8],\n",
    "           cmap = 'Reds',\n",
    "           annot = True,  # met les corrélations dans les carrés\n",
    "           fmt = '.1f')   # 1 chiffre après la virgule. Pour des entiers utiliser le format \"d\"\n",
    ";"
   ]
  },
  {
   "cell_type": "code",
   "execution_count": null,
   "metadata": {},
   "outputs": [],
   "source": [
    "sns.heatmap(df_final.corr().iloc[:8,8:16],\n",
    "           cmap = 'Reds',\n",
    "           annot = True,  \n",
    "           fmt = '.1f')   \n",
    ";"
   ]
  },
  {
   "cell_type": "code",
   "execution_count": null,
   "metadata": {},
   "outputs": [],
   "source": [
    "sns.heatmap(df_final.corr().iloc[:8,16:24],\n",
    "           cmap = 'Reds',\n",
    "           annot = True,  \n",
    "           fmt = '.1f')   \n",
    ";"
   ]
  },
  {
   "cell_type": "code",
   "execution_count": null,
   "metadata": {},
   "outputs": [],
   "source": [
    "sns.heatmap(df_final.corr().iloc[8:16,:8],\n",
    "           cmap = 'Reds',\n",
    "           annot = True,  \n",
    "           fmt = '.1f')   \n",
    ";"
   ]
  },
  {
   "cell_type": "code",
   "execution_count": null,
   "metadata": {},
   "outputs": [],
   "source": [
    "sns.heatmap(df_final.corr().iloc[8:16,8:16],\n",
    "           cmap = 'Reds',\n",
    "           annot = True,  \n",
    "           fmt = '.1f')   \n",
    ";"
   ]
  },
  {
   "cell_type": "code",
   "execution_count": null,
   "metadata": {},
   "outputs": [],
   "source": [
    "sns.heatmap(df_final.corr().iloc[8:16,16:24],\n",
    "           cmap = 'Reds',\n",
    "           annot = True,  \n",
    "           fmt = '.1f')   \n",
    ";"
   ]
  },
  {
   "cell_type": "markdown",
   "metadata": {},
   "source": [
    "## Modélisation de la série temporelle "
   ]
  },
  {
   "cell_type": "markdown",
   "metadata": {},
   "source": [
    "On essaye de modéliser la série en dégageant la `tendance`, la `saisonnalité` et le `bruit`.\n",
    "\n",
    "On se concentre ici sur la série des consommations. "
   ]
  },
  {
   "cell_type": "code",
   "execution_count": 82,
   "metadata": {},
   "outputs": [
    {
     "data": {
      "image/png": "[encoded data removed]",
      "text/plain": [
       "<Figure size 792x648 with 4 Axes>"
      ]
     },
     "metadata": {},
     "output_type": "display_data"
    }
   ],
   "source": [
    "var_tokeep = [\"Horodate\",\"Consommations totale (W)\"]\n",
    "Conso_elec = df_final[var_tokeep]\n",
    "Conso_elec.set_index(\"Horodate\", inplace = True)\n",
    "\n",
    "from pylab import rcParams\n",
    "rcParams['figure.figsize'] = 11, 9\n",
    "\n",
    "decomposition = sm.tsa.seasonal_decompose(Conso_elec, model='additive', period = 8760) # Période de 1 an donc 365 x 24 car données au pas horaire\n",
    "fig = decomposition.plot()\n",
    "plt.show()"
   ]
  }
 ],
 "metadata": {
  "kernelspec": {
   "display_name": "Python 3",
   "language": "python",
   "name": "python3"
  },
  "language_info": {
   "codemirror_mode": {
    "name": "ipython",
    "version": 3
   },
   "file_extension": ".py",
   "mimetype": "text/x-python",
   "name": "python",
   "nbconvert_exporter": "python",
   "pygments_lexer": "ipython3",
   "version": "3.8.3"
  }
 },
 "nbformat": 4,
 "nbformat_minor": 4
}
